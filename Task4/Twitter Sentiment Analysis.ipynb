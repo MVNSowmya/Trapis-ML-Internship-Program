{
 "cells": [
  {
   "cell_type": "code",
   "execution_count": 1,
   "metadata": {},
   "outputs": [],
   "source": [
    "import numpy as np\n",
    "import pandas as pd"
   ]
  },
  {
   "cell_type": "code",
   "execution_count": 2,
   "metadata": {},
   "outputs": [],
   "source": [
    "from tensorflow.python.keras.models import Sequential\n",
    "from tensorflow.python.keras.layers import Dense, GRU, Embedding,CuDNNGRU\n",
    "from tensorflow.keras.optimizers import Adam\n",
    "from tensorflow.python.keras.preprocessing.text import Tokenizer\n",
    "from tensorflow.python.keras.preprocessing.sequence import pad_sequences"
   ]
  },
  {
   "cell_type": "code",
   "execution_count": 3,
   "metadata": {},
   "outputs": [],
   "source": [
    "train_dataset=pd.read_csv('train.csv')\n",
    "test_dataset=pd.read_csv('test.csv')"
   ]
  },
  {
   "cell_type": "code",
   "execution_count": 4,
   "metadata": {},
   "outputs": [],
   "source": [
    "#set index\n",
    "train_dataset.set_index('id',inplace=True)\n",
    "test_dataset.set_index('id',inplace=True)"
   ]
  },
  {
   "cell_type": "code",
   "execution_count": 5,
   "metadata": {},
   "outputs": [],
   "source": [
    "#to list\n",
    "target=train_dataset['label'].values.tolist()\n",
    "data=train_dataset['tweet'].values.tolist()\n",
    "\n",
    "#splitting data into train and test\n",
    "cutoff=int(len(data)*0.8)\n",
    "x_train, x_test=data[:cutoff],data[cutoff:]\n",
    "y_train, y_test=target[:cutoff],target[cutoff:]\n",
    "\n",
    "y_train=np.array(y_train)\n",
    "y_test=np.array(y_test)"
   ]
  },
  {
   "cell_type": "code",
   "execution_count": 6,
   "metadata": {},
   "outputs": [],
   "source": [
    "#creating a threshold for number of words \n",
    "num_words=10000 \n",
    "\n",
    "#creating a tokenizer\n",
    "tokenizer=Tokenizer(num_words=num_words)\n",
    "\n",
    "#converting words to numbers\n",
    "tokenizer.fit_on_texts(data) \n",
    "\n",
    "#creating vectors\n",
    "x_train_tokens=tokenizer.texts_to_sequences(x_train)\n",
    "x_test_tokens=tokenizer.texts_to_sequences(x_test)"
   ]
  },
  {
   "cell_type": "code",
   "execution_count": 7,
   "metadata": {},
   "outputs": [
    {
     "name": "stdout",
     "output_type": "stream",
     "text": [
      "if you want creative workers, give them enough time to play.   #success #quote  \n",
      "[72, 6, 74, 1340, 1872, 335, 152, 456, 39, 3, 311, 393, 292]\n"
     ]
    }
   ],
   "source": [
    "print(x_train[800])\n",
    "print(x_train_tokens[800])"
   ]
  },
  {
   "cell_type": "code",
   "execution_count": 8,
   "metadata": {},
   "outputs": [],
   "source": [
    "num_tokens=[len(tokens) for tokens in x_train_tokens+x_test_tokens]\n",
    "num_tokens=np.array(num_tokens)\n",
    "max_tokens=np.mean(num_tokens)+2*np.std(num_tokens)\n",
    "max_tokens=int(max_tokens)"
   ]
  },
  {
   "cell_type": "code",
   "execution_count": 9,
   "metadata": {},
   "outputs": [
    {
     "data": {
      "text/plain": [
       "0.9485639196545899"
      ]
     },
     "execution_count": 9,
     "metadata": {},
     "output_type": "execute_result"
    }
   ],
   "source": [
    "np.sum(num_tokens<max_tokens)/len(num_tokens)"
   ]
  },
  {
   "cell_type": "code",
   "execution_count": 10,
   "metadata": {},
   "outputs": [],
   "source": [
    "#padding operation\n",
    "x_train_pad=pad_sequences(x_train_tokens,\n",
    "                              maxlen=max_tokens)\n",
    "x_test_pad=pad_sequences(x_test_tokens,\n",
    "                         maxlen=max_tokens)"
   ]
  },
  {
   "cell_type": "code",
   "execution_count": 11,
   "metadata": {},
   "outputs": [
    {
     "name": "stdout",
     "output_type": "stream",
     "text": [
      "WARNING:tensorflow:From C:\\Users\\sowmy\\Anaconda3\\lib\\site-packages\\tensorflow_core\\python\\keras\\initializers.py:119: calling RandomUniform.__init__ (from tensorflow.python.ops.init_ops) with dtype is deprecated and will be removed in a future version.\n",
      "Instructions for updating:\n",
      "Call initializer instance with the dtype argument instead of passing it to the constructor\n",
      "WARNING:tensorflow:From C:\\Users\\sowmy\\Anaconda3\\lib\\site-packages\\tensorflow_core\\python\\ops\\resource_variable_ops.py:1630: calling BaseResourceVariable.__init__ (from tensorflow.python.ops.resource_variable_ops) with constraint is deprecated and will be removed in a future version.\n",
      "Instructions for updating:\n",
      "If using Keras pass *_constraint arguments to layers.\n"
     ]
    }
   ],
   "source": [
    "#creating model\n",
    "model=Sequential()\n",
    "embedding_size=50  # we will create a 50 size vector for each word.\n",
    "\n",
    "model.add(Embedding(input_dim=num_words,\n",
    "                    output_dim=embedding_size,\n",
    "                    input_length=max_tokens,\n",
    "                    name='embedding_layer')\n",
    ") # this Embedding layer will take a text as an input, convert it to a vector as an output\n",
    "\n",
    "model.add(GRU(units=16, \n",
    "              return_sequences=True) \n",
    ")\n",
    "model.add(GRU(units=8, return_sequences=True))\n",
    "model.add(GRU(units=4))\n",
    "model.add(Dense(1,activation='sigmoid'))\n",
    "optimizer=Adam(lr=1e-3)"
   ]
  },
  {
   "cell_type": "code",
   "execution_count": 12,
   "metadata": {},
   "outputs": [
    {
     "name": "stdout",
     "output_type": "stream",
     "text": [
      "WARNING:tensorflow:From C:\\Users\\sowmy\\Anaconda3\\lib\\site-packages\\tensorflow_core\\python\\ops\\nn_impl.py:183: where (from tensorflow.python.ops.array_ops) is deprecated and will be removed in a future version.\n",
      "Instructions for updating:\n",
      "Use tf.where in 2.0, which has the same broadcast rule as np.where\n"
     ]
    }
   ],
   "source": [
    "model.compile(loss='binary_crossentropy',\n",
    "              optimizer=optimizer,\n",
    "              metrics=['accuracy'])"
   ]
  },
  {
   "cell_type": "code",
   "execution_count": 13,
   "metadata": {},
   "outputs": [
    {
     "name": "stdout",
     "output_type": "stream",
     "text": [
      "Model: \"sequential\"\n",
      "_________________________________________________________________\n",
      "Layer (type)                 Output Shape              Param #   \n",
      "=================================================================\n",
      "embedding_layer (Embedding)  (None, 22, 50)            500000    \n",
      "_________________________________________________________________\n",
      "gru (GRU)                    (None, 22, 16)            3216      \n",
      "_________________________________________________________________\n",
      "gru_1 (GRU)                  (None, 22, 8)             600       \n",
      "_________________________________________________________________\n",
      "gru_2 (GRU)                  (None, 4)                 156       \n",
      "_________________________________________________________________\n",
      "dense (Dense)                (None, 1)                 5         \n",
      "=================================================================\n",
      "Total params: 503,977\n",
      "Trainable params: 503,977\n",
      "Non-trainable params: 0\n",
      "_________________________________________________________________\n"
     ]
    }
   ],
   "source": [
    "model.summary()"
   ]
  },
  {
   "cell_type": "code",
   "execution_count": 14,
   "metadata": {},
   "outputs": [
    {
     "name": "stdout",
     "output_type": "stream",
     "text": [
      "Train on 25569 samples\n",
      "Epoch 1/5\n",
      "25569/25569 [==============================] - 13s 505us/sample - loss: 0.3476 - acc: 0.9265\n",
      "Epoch 2/5\n",
      "25569/25569 [==============================] - 9s 337us/sample - loss: 0.1631 - acc: 0.9502\n",
      "Epoch 3/5\n",
      "25569/25569 [==============================] - 9s 363us/sample - loss: 0.1031 - acc: 0.9707\n",
      "Epoch 4/5\n",
      "25569/25569 [==============================] - 10s 391us/sample - loss: 0.0743 - acc: 0.9804\n",
      "Epoch 5/5\n",
      "25569/25569 [==============================] - 10s 389us/sample - loss: 0.0561 - acc: 0.9867\n"
     ]
    },
    {
     "data": {
      "text/plain": [
       "<tensorflow.python.keras.callbacks.History at 0x214f66c74c8>"
      ]
     },
     "execution_count": 14,
     "metadata": {},
     "output_type": "execute_result"
    }
   ],
   "source": [
    "model.fit(x_train_pad,\n",
    "          y_train,\n",
    "          epochs=5,\n",
    "          batch_size=256)"
   ]
  },
  {
   "cell_type": "code",
   "execution_count": 15,
   "metadata": {},
   "outputs": [
    {
     "name": "stdout",
     "output_type": "stream",
     "text": [
      "6393/6393 [==============================] - 3s 412us/sample - loss: 0.1322 - acc: 0.9592\n"
     ]
    }
   ],
   "source": [
    "result=model.evaluate(x_test_pad,\n",
    "                      y_test)"
   ]
  },
  {
   "cell_type": "code",
   "execution_count": 16,
   "metadata": {},
   "outputs": [
    {
     "name": "stdout",
     "output_type": "stream",
     "text": [
      "37\n"
     ]
    }
   ],
   "source": [
    "#we will go over the results and false predictions and try to understand this errors.\n",
    "y_pred=model.predict(x=x_test_pad[0:1000])\n",
    "y_pred=y_pred.T[0]\n",
    "\n",
    "cls_pred=np.array([1.0 if p>0.5 else 0.0 for p in y_pred])\n",
    "\n",
    "cls_true=np.array(y_test[0:1000])\n",
    "\n",
    "incorrect=np.where(cls_pred!=cls_true) \n",
    "incorrect=incorrect[0] \n",
    "\n",
    "print(len(incorrect)) "
   ]
  },
  {
   "cell_type": "code",
   "execution_count": 17,
   "metadata": {},
   "outputs": [
    {
     "name": "stdout",
     "output_type": "stream",
     "text": [
      "@user  now comes with a #taxwriteoff as four #whitenationalist groups are given #nonprofitstatus @user @user \n",
      "0.378024\n",
      "1\n"
     ]
    }
   ],
   "source": [
    "idx=incorrect[2] # the first false prediction index\n",
    "text=x_test[idx]\n",
    "print(text)\n",
    "print(y_pred[idx]) # the probability\n",
    "print(cls_true[idx])"
   ]
  },
  {
   "cell_type": "code",
   "execution_count": 18,
   "metadata": {},
   "outputs": [],
   "source": [
    "#scoring test dataset\n",
    "test_data=test_dataset['tweet'].values.tolist()\n",
    "\n",
    "test_data_tokens=tokenizer.texts_to_sequences(test_data)\n",
    "\n",
    "test_data_tokens_pad=pad_sequences(test_data_tokens,\n",
    "                         maxlen=max_tokens)\n",
    "\n",
    "test_data_predictions=model.predict(test_data_tokens_pad)\n",
    "test_data_predictions=[1 if prob>0.5 else 0 for prob in test_data_predictions]\n",
    "test_dataset['label']=test_data_predictions"
   ]
  },
  {
   "cell_type": "code",
   "execution_count": 19,
   "metadata": {},
   "outputs": [],
   "source": [
    "test_dataset.to_csv('prediction.csv',index=False)"
   ]
  }
 ],
 "metadata": {
  "kernelspec": {
   "display_name": "Python 3",
   "language": "python",
   "name": "python3"
  },
  "language_info": {
   "codemirror_mode": {
    "name": "ipython",
    "version": 3
   },
   "file_extension": ".py",
   "mimetype": "text/x-python",
   "name": "python",
   "nbconvert_exporter": "python",
   "pygments_lexer": "ipython3",
   "version": "3.7.4"
  }
 },
 "nbformat": 4,
 "nbformat_minor": 2
}
